{
 "cells": [
  {
   "cell_type": "code",
   "execution_count": null,
   "id": "1d490860",
   "metadata": {},
   "outputs": [],
   "source": [
    "import pandas as pd\n",
    "import nltk\n",
    "from nltk.tokenize import RegexpTokenizer\n",
    "tokenizer = RegexpTokenizer(r'\\w+')\n"
   ]
  },
  {
   "cell_type": "code",
   "execution_count": null,
   "id": "f1eea352",
   "metadata": {},
   "outputs": [],
   "source": [
    "df = pd.read_csv('timhortons.csv', encoding= 'unicode_escape')\n",
    "#conversion of all the text data into upper case to make our life easier.\n",
    "df = df.apply(lambda x: x.astype(str).str.upper())\n",
    "#df.info()"
   ]
  },
  {
   "cell_type": "code",
   "execution_count": null,
   "id": "43f5d043",
   "metadata": {},
   "outputs": [],
   "source": [
    "item_name_column = df['Menu Item']\n",
    "def get_key_words_from_column(name_column):\n",
    "    keywords = []\n",
    "    for i in name_column:\n",
    "        keywords.append(tokenizer.tokenize(i))\n",
    "    return keywords\n",
    "Keywords_col = pd.Series(get_key_words_from_column(item_name_column))\n",
    "Keywords_col\n",
    "df['Keywords'] = Keywords_col\n",
    "df.head(2)"
   ]
  },
  {
   "cell_type": "code",
   "execution_count": null,
   "id": "61ee9a0b",
   "metadata": {},
   "outputs": [],
   "source": [
    "def add_index_column(df):\n",
    "    index = []\n",
    "    for i, r in df.iterrows():\n",
    "        index.append(i)\n",
    "    return index\n",
    "index_col = pd.Series(add_index_column(df))\n",
    "index_col\n",
    "df['Index'] = index_col"
   ]
  },
  {
   "cell_type": "code",
   "execution_count": null,
   "id": "7dd0693b",
   "metadata": {},
   "outputs": [],
   "source": [
    "df"
   ]
  },
  {
   "cell_type": "code",
   "execution_count": null,
   "id": "c673b92c",
   "metadata": {},
   "outputs": [],
   "source": [
    "df = df.drop(['Sulphites'], axis=1 )\n",
    "columns = df.columns\n",
    "#print(len(columns))\n",
    "#df.head(2)\n",
    "#df.columns.get_loc(\"Item Type\")\n",
    "columns"
   ]
  },
  {
   "cell_type": "code",
   "execution_count": null,
   "id": "144c9b41",
   "metadata": {},
   "outputs": [],
   "source": [
    "#df.head(5)\n",
    "for i, r in df.iterrows():\n",
    "    if r[\"Item Temp\"] not in r['Keywords']:\n",
    "        r['Keywords'].append(r[\"Item Temp\"])"
   ]
  },
  {
   "cell_type": "code",
   "execution_count": null,
   "id": "faaa50fb",
   "metadata": {},
   "outputs": [],
   "source": [
    "for i, r in df.iterrows():\n",
    "    if (r[\"Wheat\"] == 'X' or r[\"Wheat\"] == 'O'):\n",
    "        if 'Wheat'.upper() not in r['Keywords']:\n",
    "            r['Keywords'].append('Wheat'.upper())\n",
    "            #print(f\"{i} : {r['Keywords']}\")\n",
    "#         else:\n",
    "#             #print('present')\n",
    "#             print(f\"{i} : {r['Keywords']}\")\n",
    "#     else:\n",
    "#         #print('present')\n",
    "#         print(f\"{i} : {r['Keywords']}\")\n",
    "df[[\"Index\",'Menu Item','Keywords']]"
   ]
  },
  {
   "cell_type": "code",
   "execution_count": null,
   "id": "767de58c",
   "metadata": {},
   "outputs": [],
   "source": [
    "for i, r in df.iterrows():\n",
    "    if (r[\"Gluten\"] == 'X' or r[\"Gluten\"] == 'O'):\n",
    "        if 'Gluten'.upper() not in r['Keywords']:\n",
    "            r['Keywords'].append('Gluten'.upper())\n",
    "#df[[\"Index\",'Menu Item','Keywords']]"
   ]
  },
  {
   "cell_type": "code",
   "execution_count": null,
   "id": "3c503187",
   "metadata": {},
   "outputs": [],
   "source": [
    "for i, r in df.iterrows():\n",
    "    if (r[\"Milk\"] == 'X' or r[\"Milk\"] == 'O'):\n",
    "        if 'Milk'.upper() not in r['Keywords']:\n",
    "            r['Keywords'].append('Milk'.upper())\n",
    "#df[[\"Index\",'Menu Item','Keywords']]"
   ]
  },
  {
   "cell_type": "code",
   "execution_count": null,
   "id": "e5f32bf2",
   "metadata": {},
   "outputs": [],
   "source": [
    "for i, r in df.iterrows():\n",
    "    if (r[\"Egg\"] == 'X' or r[\"Egg\"] == 'O'):\n",
    "        if 'Egg'.upper() not in r['Keywords']:\n",
    "            r['Keywords'].append('Egg'.upper())\n",
    "#df[[\"Index\",'Menu Item','Keywords']]"
   ]
  },
  {
   "cell_type": "code",
   "execution_count": null,
   "id": "f26e7353",
   "metadata": {},
   "outputs": [],
   "source": [
    "for i, r in df.iterrows():\n",
    "    if (r[\"Peanuts\"] == 'X' or r[\"Peanuts\"] == 'O'):\n",
    "        if 'Peanuts'.upper() not in r['Keywords']:\n",
    "            r['Keywords'].append('Peanuts'.upper())\n",
    "#df[[\"Index\",'Menu Item','Keywords']]"
   ]
  },
  {
   "cell_type": "code",
   "execution_count": null,
   "id": "715806ff",
   "metadata": {},
   "outputs": [],
   "source": [
    "for i, r in df.iterrows():\n",
    "    if (r[\"Tree Nuts\"] == 'X' or r[\"Tree Nuts\"] == 'O'):\n",
    "        if 'Nuts'.upper() not in r['Keywords']:\n",
    "            r['Keywords'].append('Nuts'.upper())\n",
    "#df[[\"Index\",'Menu Item','Keywords']]"
   ]
  },
  {
   "cell_type": "code",
   "execution_count": null,
   "id": "ed4e9248",
   "metadata": {},
   "outputs": [],
   "source": [
    "for i, r in df.iterrows():\n",
    "    if (r[\"Soy\"] == 'X' or r[\"Soy\"] == 'O'):\n",
    "        if 'Soy'.upper() not in r['Keywords']:\n",
    "            r['Keywords'].append('Soy'.upper())\n",
    "#df[[\"Index\",'Menu Item','Keywords']]"
   ]
  },
  {
   "cell_type": "code",
   "execution_count": null,
   "id": "71734a3b",
   "metadata": {},
   "outputs": [],
   "source": [
    "for i, r in df.iterrows():\n",
    "    if (r[\"Fish\"] == 'X' or r[\"Fish\"] == 'O'):\n",
    "        if 'Fish'.upper() not in r['Keywords']:\n",
    "            r['Keywords'].append('Fish'.upper())\n",
    "#df[[\"Index\",'Menu Item','Keywords']]"
   ]
  },
  {
   "cell_type": "code",
   "execution_count": null,
   "id": "aac58e1d",
   "metadata": {},
   "outputs": [],
   "source": [
    "for i, r in df.iterrows():\n",
    "    if (r[\"Shellfish\"] == 'X' or r[\"Shellfish\"] == 'O'):\n",
    "        if 'Shellfish'.upper() not in r['Keywords']:\n",
    "            r['Keywords'].append('Shellfish'.upper())\n",
    "#df[[\"Index\",'Menu Item','Keywords']]"
   ]
  },
  {
   "cell_type": "code",
   "execution_count": null,
   "id": "0f3d04ca",
   "metadata": {},
   "outputs": [],
   "source": [
    "for i, r in df.iterrows():\n",
    "    if (r[\"Sesame\"] == 'X' or r[\"Sesame\"] == 'O'):\n",
    "        if 'Sesame'.upper() not in r['Keywords']:\n",
    "            r['Keywords'].append('Sesame'.upper())\n",
    "#df[[\"Index\",'Menu Item','Keywords']]"
   ]
  },
  {
   "cell_type": "code",
   "execution_count": null,
   "id": "570ce260",
   "metadata": {},
   "outputs": [],
   "source": [
    "for i, r in df.iterrows():\n",
    "    if (r[\"Mustard\"] == 'X' or r[\"Mustard\"] == 'O'):\n",
    "        if 'Mustard'.upper() not in r['Keywords']:\n",
    "            r['Keywords'].append('Mustard'.upper())\n",
    "#df[[\"Index\",'Menu Item','Keywords']]"
   ]
  },
  {
   "cell_type": "code",
   "execution_count": null,
   "id": "4093474e",
   "metadata": {},
   "outputs": [],
   "source": [
    "df2 = df[['Menu Item','Keywords']]\n",
    "Keyword_dict = df2.set_index('Menu Item').to_dict()['Keywords']"
   ]
  },
  {
   "cell_type": "code",
   "execution_count": null,
   "id": "db907779",
   "metadata": {},
   "outputs": [],
   "source": [
    "dataframe = pd.read_csv('FoodChain.csv')\n",
    "def add_index_column(df):\n",
    "    index = []\n",
    "    for i, r in df.iterrows():\n",
    "        index.append(i)\n",
    "    return index\n",
    "index_col = pd.Series(add_index_column(dataframe))\n",
    "#print(index_col)\n",
    "dataframe['Index'] = index_col\n",
    "dataframe"
   ]
  },
  {
   "cell_type": "code",
   "execution_count": null,
   "id": "f179949f",
   "metadata": {
    "scrolled": false
   },
   "outputs": [],
   "source": [
    "dataframe = dataframe.apply(lambda x: x.astype(str).str.upper())\n",
    "df3 = dataframe[dataframe['Food chain'] == 'TIM HORTONS']\n",
    "df3 = df3.assign(Keywords='NAN')\n",
    "for i, r in df3.iterrows():\n",
    "    if (Keyword_dict.get(r['Menu Items'])):\n",
    "        r['Keywords']=Keyword_dict.get(r['Menu Items'])\n",
    "    else:\n",
    "        r['Keywords']=tokenizer.tokenize(r['Menu Items'])\n",
    "len(df3[['Menu Items','Keywords']])\n",
    "df3"
   ]
  },
  {
   "cell_type": "code",
   "execution_count": null,
   "id": "51595eef",
   "metadata": {},
   "outputs": [],
   "source": []
  },
  {
   "cell_type": "code",
   "execution_count": null,
   "id": "402e596c",
   "metadata": {},
   "outputs": [],
   "source": [
    "#index_col\n",
    "tim_data = df3"
   ]
  },
  {
   "cell_type": "code",
   "execution_count": null,
   "id": "e8a19a5a",
   "metadata": {},
   "outputs": [],
   "source": [
    "tim_data.columns"
   ]
  },
  {
   "cell_type": "code",
   "execution_count": null,
   "id": "1705db7a",
   "metadata": {},
   "outputs": [],
   "source": [
    "df3"
   ]
  },
  {
   "cell_type": "markdown",
   "id": "34a061b4",
   "metadata": {},
   "source": [
    "# cosine similarity application for the Tims data."
   ]
  },
  {
   "cell_type": "code",
   "execution_count": null,
   "id": "2ce38409",
   "metadata": {},
   "outputs": [],
   "source": [
    "import numpy as np\n",
    "import difflib\n",
    "from sklearn.feature_extraction.text import TfidfVectorizer\n",
    "from sklearn.metrics.pairwise import cosine_similarity"
   ]
  },
  {
   "cell_type": "code",
   "execution_count": null,
   "id": "3d4610b8",
   "metadata": {},
   "outputs": [],
   "source": [
    "#Load the preprocessed data.\n",
    "type(tim_data)"
   ]
  },
  {
   "cell_type": "code",
   "execution_count": null,
   "id": "122a9f72",
   "metadata": {},
   "outputs": [],
   "source": [
    "tim_data['Keywords_str'] = [' '.join(map(str, l)) for l in tim_data['Keywords']]\n",
    "tim_data['Keywords_str']\n",
    "tim_data.drop(['Keywords'], axis=1)"
   ]
  },
  {
   "cell_type": "markdown",
   "id": "e0292d99",
   "metadata": {},
   "source": [
    " from here on stop adding the key words"
   ]
  },
  {
   "cell_type": "code",
   "execution_count": null,
   "id": "23cc57de",
   "metadata": {},
   "outputs": [],
   "source": [
    "features = ['Food chain', \"Menu Category\", \"Keywords_str\"]"
   ]
  },
  {
   "cell_type": "code",
   "execution_count": null,
   "id": "113b8fab",
   "metadata": {},
   "outputs": [],
   "source": [
    "features"
   ]
  },
  {
   "cell_type": "markdown",
   "id": "fbfa3e07",
   "metadata": {},
   "source": [
    "#Replacing the missing null values in all the four columns"
   ]
  },
  {
   "cell_type": "code",
   "execution_count": null,
   "id": "bdbb9031",
   "metadata": {},
   "outputs": [],
   "source": [
    "for f in features:\n",
    "    print(type(f))\n",
    "    tim_data[f] = tim_data[f].fillna(\".\")"
   ]
  },
  {
   "cell_type": "code",
   "execution_count": null,
   "id": "4dd238af",
   "metadata": {},
   "outputs": [],
   "source": [
    "total_features = tim_data['Food chain']+\" \"+ tim_data[\"Menu Category\"]+ \" \"+tim_data[\"Keywords_str\"]"
   ]
  },
  {
   "cell_type": "code",
   "execution_count": null,
   "id": "80aa55af",
   "metadata": {},
   "outputs": [],
   "source": [
    "total_features"
   ]
  },
  {
   "cell_type": "code",
   "execution_count": null,
   "id": "5b15c1ac",
   "metadata": {},
   "outputs": [],
   "source": [
    "vectorizer = TfidfVectorizer()"
   ]
  },
  {
   "cell_type": "code",
   "execution_count": null,
   "id": "ecff21fc",
   "metadata": {},
   "outputs": [],
   "source": [
    "feature_vectors = vectorizer.fit_transform(total_features)"
   ]
  },
  {
   "cell_type": "code",
   "execution_count": null,
   "id": "6697aa84",
   "metadata": {},
   "outputs": [],
   "source": [
    "#print(feature_vectors)"
   ]
  },
  {
   "cell_type": "markdown",
   "id": "825e870c",
   "metadata": {},
   "source": [
    "Cosine_similarity score"
   ]
  },
  {
   "cell_type": "code",
   "execution_count": null,
   "id": "65edea1b",
   "metadata": {},
   "outputs": [],
   "source": [
    "similarity = cosine_similarity(feature_vectors)"
   ]
  },
  {
   "cell_type": "code",
   "execution_count": null,
   "id": "6fcec4ec",
   "metadata": {},
   "outputs": [],
   "source": [
    "similarity"
   ]
  },
  {
   "cell_type": "markdown",
   "id": "7e3ac4f1",
   "metadata": {},
   "source": [
    "get the item name from the user"
   ]
  },
  {
   "cell_type": "code",
   "execution_count": null,
   "id": "ae199cb3",
   "metadata": {},
   "outputs": [],
   "source": [
    "item = input(\"enter the item name: \")"
   ]
  },
  {
   "cell_type": "code",
   "execution_count": null,
   "id": "a8e82fe6",
   "metadata": {},
   "outputs": [],
   "source": [
    "item"
   ]
  },
  {
   "cell_type": "code",
   "execution_count": null,
   "id": "70215dc8",
   "metadata": {},
   "outputs": [],
   "source": [
    "list_of_items = tim_data[\"Menu Items\"].tolist()"
   ]
  },
  {
   "cell_type": "code",
   "execution_count": null,
   "id": "906fc9cf",
   "metadata": {},
   "outputs": [],
   "source": [
    "list_of_items"
   ]
  },
  {
   "cell_type": "code",
   "execution_count": null,
   "id": "0943f7dd",
   "metadata": {},
   "outputs": [],
   "source": [
    "item_close_match = difflib.get_close_matches(item, list_of_items)"
   ]
  },
  {
   "cell_type": "code",
   "execution_count": null,
   "id": "06bc7aee",
   "metadata": {},
   "outputs": [],
   "source": [
    "item_close_match[0]"
   ]
  },
  {
   "cell_type": "code",
   "execution_count": null,
   "id": "daf462fb",
   "metadata": {},
   "outputs": [],
   "source": [
    "index_of_the_item = tim_data[tim_data[\"Menu Items\"] == item_close_match[0]]['Index'].values[0]"
   ]
  },
  {
   "cell_type": "code",
   "execution_count": null,
   "id": "182403e6",
   "metadata": {},
   "outputs": [],
   "source": [
    "index_of_the_item"
   ]
  },
  {
   "cell_type": "code",
   "execution_count": null,
   "id": "5e929fab",
   "metadata": {},
   "outputs": [],
   "source": [
    "#getting the list of similar movies\n",
    "tim_data[tim_data['Index'] == index_of_the_item].index\n",
    "similarity_score = list(enumerate(similarity[int(index_of_the_item)-141]))"
   ]
  },
  {
   "cell_type": "code",
   "execution_count": null,
   "id": "d11cc6f7",
   "metadata": {},
   "outputs": [],
   "source": [
    "#similarity_score\n",
    "import matplotlib.pyplot as plt\n",
    "%matplotlib inline"
   ]
  },
  {
   "cell_type": "code",
   "execution_count": null,
   "id": "5d82eaf6",
   "metadata": {},
   "outputs": [],
   "source": [
    "x=[]\n",
    "y=[]\n",
    "for i in similarity_score:\n",
    "    x.append(i[0]+140)\n",
    "    y.append(i[1])\n",
    "y\n",
    "tim_data_for_plot = tim_data"
   ]
  },
  {
   "cell_type": "code",
   "execution_count": null,
   "id": "e097712b",
   "metadata": {},
   "outputs": [],
   "source": [
    "fig, axes = plt.subplots(nrows=1,ncols=1)\n",
    "axes.bar(x,y,color='green')\n",
    "#axes.bar(x,y=1,marker=\"*\")"
   ]
  },
  {
   "cell_type": "code",
   "execution_count": null,
   "id": "9be3fd19",
   "metadata": {},
   "outputs": [],
   "source": [
    "tim_data_for_plot['Similarity_Score']= y\n",
    "tim_data_for_plot\n",
    "import plotly.express as px\n",
    "#data_canada = px.data.gapminder().query(\"country == 'Canada'\")\n",
    "type(similarity_score)\n",
    "fig = px.bar(tim_data_for_plot, x='Index', y='Similarity_Score',hover_name=\"Menu Items\",title=\"Similarity_scores\")\n",
    "fig.show()"
   ]
  },
  {
   "cell_type": "code",
   "execution_count": null,
   "id": "3d48a7a6",
   "metadata": {},
   "outputs": [],
   "source": []
  },
  {
   "cell_type": "code",
   "execution_count": null,
   "id": "569ff6f9",
   "metadata": {},
   "outputs": [],
   "source": [
    "sorted_items_based_on_liking = sorted(similarity_score, key = lambda x:x[1], reverse = True) "
   ]
  },
  {
   "cell_type": "code",
   "execution_count": null,
   "id": "23f6ffef",
   "metadata": {},
   "outputs": [],
   "source": [
    "sorted_items_based_on_liking\n",
    "title = []\n",
    "for i in sorted_items_based_on_liking:\n",
    "    index = i[0] + 141\n",
    "    print(index)\n",
    "    title.append(tim_data[tim_data['Index'] == index][\"Menu Items\"])"
   ]
  },
  {
   "cell_type": "code",
   "execution_count": null,
   "id": "b5959c07",
   "metadata": {},
   "outputs": [],
   "source": [
    "title"
   ]
  },
  {
   "cell_type": "code",
   "execution_count": null,
   "id": "c042ee76",
   "metadata": {},
   "outputs": [],
   "source": []
  },
  {
   "cell_type": "code",
   "execution_count": null,
   "id": "af6156c4",
   "metadata": {},
   "outputs": [],
   "source": []
  },
  {
   "cell_type": "code",
   "execution_count": null,
   "id": "79aed38e",
   "metadata": {},
   "outputs": [],
   "source": []
  },
  {
   "cell_type": "code",
   "execution_count": null,
   "id": "68167189",
   "metadata": {},
   "outputs": [],
   "source": []
  },
  {
   "cell_type": "code",
   "execution_count": null,
   "id": "2082bf44",
   "metadata": {},
   "outputs": [],
   "source": []
  },
  {
   "cell_type": "code",
   "execution_count": null,
   "id": "e0b46fce",
   "metadata": {},
   "outputs": [],
   "source": []
  },
  {
   "cell_type": "code",
   "execution_count": null,
   "id": "3856f90e",
   "metadata": {},
   "outputs": [],
   "source": []
  },
  {
   "cell_type": "markdown",
   "id": "fbe5a0d7",
   "metadata": {},
   "source": []
  },
  {
   "cell_type": "code",
   "execution_count": null,
   "id": "60bad99f",
   "metadata": {},
   "outputs": [],
   "source": []
  },
  {
   "cell_type": "code",
   "execution_count": null,
   "id": "79291d77",
   "metadata": {},
   "outputs": [],
   "source": []
  },
  {
   "cell_type": "code",
   "execution_count": null,
   "id": "e97fe421",
   "metadata": {},
   "outputs": [],
   "source": []
  },
  {
   "cell_type": "code",
   "execution_count": null,
   "id": "dac2ae95",
   "metadata": {},
   "outputs": [],
   "source": []
  },
  {
   "cell_type": "code",
   "execution_count": null,
   "id": "e1a18809",
   "metadata": {},
   "outputs": [],
   "source": []
  },
  {
   "cell_type": "code",
   "execution_count": null,
   "id": "47d2a0fe",
   "metadata": {},
   "outputs": [],
   "source": []
  },
  {
   "cell_type": "code",
   "execution_count": null,
   "id": "160692a8",
   "metadata": {},
   "outputs": [],
   "source": []
  }
 ],
 "metadata": {
  "kernelspec": {
   "display_name": "Python 3 (ipykernel)",
   "language": "python",
   "name": "python3"
  },
  "language_info": {
   "codemirror_mode": {
    "name": "ipython",
    "version": 3
   },
   "file_extension": ".py",
   "mimetype": "text/x-python",
   "name": "python",
   "nbconvert_exporter": "python",
   "pygments_lexer": "ipython3",
   "version": "3.9.12"
  }
 },
 "nbformat": 4,
 "nbformat_minor": 5
}
